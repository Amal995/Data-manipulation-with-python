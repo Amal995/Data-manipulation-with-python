{
  "nbformat": 4,
  "nbformat_minor": 0,
  "metadata": {
    "colab": {
      "provenance": [],
      "authorship_tag": "ABX9TyO8CqZcbcPpS9M0xnjSoP5I",
      "include_colab_link": true
    },
    "kernelspec": {
      "name": "python3",
      "display_name": "Python 3"
    },
    "language_info": {
      "name": "python"
    }
  },
  "cells": [
    {
      "cell_type": "markdown",
      "metadata": {
        "id": "view-in-github",
        "colab_type": "text"
      },
      "source": [
        "<a href=\"https://colab.research.google.com/github/Amal995/Data-manipulation-with-python/blob/main/Untitled30.ipynb\" target=\"_parent\"><img src=\"https://colab.research.google.com/assets/colab-badge.svg\" alt=\"Open In Colab\"/></a>"
      ]
    },
    {
      "cell_type": "code",
      "source": [
        "import sys\n",
        "print(sys.version)"
      ],
      "metadata": {
        "colab": {
          "base_uri": "https://localhost:8080/"
        },
        "id": "XR7DEPoI0QfW",
        "outputId": "af89db73-77a1-4607-b528-2cb6841a6dbe"
      },
      "execution_count": 2,
      "outputs": [
        {
          "output_type": "stream",
          "name": "stdout",
          "text": [
            "3.12.11 (main, Jun  4 2025, 08:56:18) [GCC 11.4.0]\n"
          ]
        }
      ]
    },
    {
      "cell_type": "code",
      "source": [
        "import platform\n",
        "print(platform.python_version())\n"
      ],
      "metadata": {
        "colab": {
          "base_uri": "https://localhost:8080/"
        },
        "id": "uVZ5CbEH1QrI",
        "outputId": "f36b46de-416f-4d23-e348-af8b1c016638"
      },
      "execution_count": 11,
      "outputs": [
        {
          "output_type": "stream",
          "name": "stdout",
          "text": [
            "3.12.11\n"
          ]
        }
      ]
    },
    {
      "cell_type": "code",
      "source": [
        "\n",
        "\n",
        "count = 0  # compteur des itérations\n",
        "\n",
        "while a < 20:\n",
        "    a = int(input(\"saisir l'age: \"))\n",
        "    print(2)\n",
        "    count += 1  # نزيد 1 في كل iteration\n",
        "\n",
        "    if count >= 20:  # نوقف بعد 20 دورة\n",
        "        break\n"
      ],
      "metadata": {
        "colab": {
          "base_uri": "https://localhost:8080/"
        },
        "id": "msWBDZBS1nda",
        "outputId": "a1e17040-1af6-42e4-eec5-1b34520e76c2"
      },
      "execution_count": 14,
      "outputs": [
        {
          "output_type": "stream",
          "name": "stdout",
          "text": [
            "saisir l'age: 19\n",
            "2\n",
            "saisir l'age: 18\n",
            "2\n",
            "saisir l'age: 20\n",
            "2\n"
          ]
        }
      ]
    },
    {
      "cell_type": "code",
      "source": [],
      "metadata": {
        "id": "sLYxiOaq4tbD"
      },
      "execution_count": null,
      "outputs": []
    }
  ]
}